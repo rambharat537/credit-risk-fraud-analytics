{
 "cells": [
  {
   "cell_type": "markdown",
   "metadata": {},
   "source": [
    "# Financial Data Exploration & Analysis\n",
    "## Credit Risk & Fraud Detection Dataset Analysis\n",
    "\n",
    "**Objective**: Comprehensive exploratory data analysis of financial datasets to understand patterns, distributions, and relationships relevant to credit risk and fraud detection.\n",
    "\n",
    "**Author**: Ram Bharat Chowdary Moturi  \n",
    "**Date**: 2025  \n",
    "**Version**: 1.0"
   ]
  },
  {
   "cell_type": "markdown",
   "metadata": {},
   "source": [
    "## 1. Import Libraries and Setup"
   ]
  },
  {
   "cell_type": "code",
   "execution_count": null,
   "metadata": {},
   "outputs": [],
   "source": [
    "# Core libraries\n",
    "import pandas as pd\n",
    "import numpy as np\n",
    "import matplotlib.pyplot as plt\n",
    "import seaborn as sns\n",
    "import plotly.express as px\n",
    "import plotly.graph_objects as go\n",
    "from plotly.subplots import make_subplots\n",
    "\n",
    "# Statistical analysis\n",
    "from scipy import stats\n",
    "from scipy.stats import chi2_contingency, pearsonr\n",
    "import warnings\n",
    "import yaml\n",
    "from datetime import datetime, timedelta\n",
    "import os\n",
    "import sys\n",
    "\n",
    "# Add src to path for custom modules\n",
    "sys.path.append('../src')\n",
    "from utils.data_generator import FinancialDataGenerator\n",
    "\n",
    "# Configuration\n",
    "warnings.filterwarnings('ignore')\n",
    "plt.style.use('default')\n",
    "sns.set_palette(\"husl\")\n",
    "\n",
    "# Display options\n",
    "pd.set_option('display.max_columns', None)\n",
    "pd.set_option('display.max_rows', 100)\n",
    "\n",
    "print(\"✅ Libraries imported successfully!\")\n",
    "print(f\"📊 Pandas version: {pd.__version__}\")\n",
    "print(f\"🔢 NumPy version: {np.__version__}\")"
   ]
  },
  {
   "cell_type": "markdown",
   "metadata": {},
   "source": [
    "## 2. Generate Sample Data"
   ]
  },
  {
   "cell_type": "code",
   "execution_count": null,
   "metadata": {},
   "outputs": [],
   "source": [
    "# Initialize data generator\n",
    "generator = FinancialDataGenerator(random_state=42)\n",
    "\n",
    "# Generate datasets\n",
    "print(\"📈 Generating financial datasets...\")\n",
    "datasets = generator.save_datasets()\n",
    "\n",
    "credit_data = datasets['credit_data']\n",
    "transaction_data = datasets['transaction_data']\n",
    "customer_data = datasets['customer_data']\n",
    "\n",
    "print(f\"\\n📋 Dataset Shapes:\")\n",
    "print(f\"Credit Risk Data: {credit_data.shape}\")\n",
    "print(f\"Transaction Data: {transaction_data.shape}\")\n",
    "print(f\"Customer Data: {customer_data.shape}\")"
   ]
  },
  {
   "cell_type": "markdown",
   "metadata": {},
   "source": [
    "## 3. Credit Risk Data Analysis"
   ]
  },
  {
   "cell_type": "code",
   "execution_count": null,
   "metadata": {},
   "outputs": [],
   "source": [
    "# Basic information about credit data\n",
    "print(\"🏦 CREDIT RISK DATASET OVERVIEW\")\n",
    "print(\"=\" * 50)\n",
    "print(f\"Dataset shape: {credit_data.shape}\")\n",
    "print(f\"Default rate: {credit_data['default'].mean():.2%}\")\n",
    "print(f\"\\nMissing values:\")\n",
    "print(credit_data.isnull().sum())\n",
    "\n",
    "# Display first few rows\n",
    "print(f\"\\n📋 First 5 rows:\")\n",
    "credit_data.head()"
   ]
  },
  {
   "cell_type": "code",
   "execution_count": null,
   "metadata": {},
   "outputs": [],
   "source": [
    "# Descriptive statistics\n",
    "print(\"📊 DESCRIPTIVE STATISTICS\")\n",
    "credit_data.describe()"
   ]
  },
  {
   "cell_type": "code",
   "execution_count": null,
   "metadata": {},
   "outputs": [],
   "source": [
    "# Visualize credit risk data\n",
    "fig, axes = plt.subplots(2, 3, figsize=(18, 12))\n",
    "\n",
    "# Default rate by different categories\n",
    "axes[0, 0].bar(['No Default', 'Default'], \n",
    "               credit_data['default'].value_counts().values, \n",
    "               color=['lightgreen', 'salmon'])\n",
    "axes[0, 0].set_title('Default Distribution')\n",
    "axes[0, 0].set_ylabel('Count')\n",
    "\n",
    "# Credit score distribution\n",
    "axes[0, 1].hist(credit_data['credit_score'], bins=30, alpha=0.7, color='skyblue')\n",
    "axes[0, 1].set_title('Credit Score Distribution')\n",
    "axes[0, 1].set_xlabel('Credit Score')\n",
    "axes[0, 1].set_ylabel('Frequency')\n",
    "\n",
    "# Income distribution (log scale)\n",
    "axes[0, 2].hist(np.log(credit_data['annual_income']), bins=30, alpha=0.7, color='lightcoral')\n",
    "axes[0, 2].set_title('Annual Income Distribution (Log Scale)')\n",
    "axes[0, 2].set_xlabel('Log(Annual Income)')\n",
    "axes[0, 2].set_ylabel('Frequency')\n",
    "\n",
    "# Debt-to-income ratio by default status\n",
    "sns.boxplot(data=credit_data, x='default', y='debt_to_income_ratio', ax=axes[1, 0])\n",
    "axes[1, 0].set_title('Debt-to-Income Ratio by Default Status')\n",
    "\n",
    "# Credit utilization by default status\n",
    "sns.boxplot(data=credit_data, x='default', y='credit_utilization', ax=axes[1, 1])\n",
    "axes[1, 1].set_title('Credit Utilization by Default Status')\n",
    "\n",
    "# Loan amount vs Credit score (colored by default)\n",
    "scatter = axes[1, 2].scatter(credit_data['credit_score'], \n",
    "                            credit_data['loan_amount'], \n",
    "                            c=credit_data['default'], \n",
    "                            alpha=0.6, cmap='RdYlBu')\n",
    "axes[1, 2].set_title('Loan Amount vs Credit Score')\n",
    "axes[1, 2].set_xlabel('Credit Score')\n",
    "axes[1, 2].set_ylabel('Loan Amount')\n",
    "plt.colorbar(scatter, ax=axes[1, 2], label='Default Status')\n",
    "\n",
    "plt.tight_layout()\n",
    "plt.savefig('../dashboards/exports/credit_analysis.png', dpi=300, bbox_inches='tight')\n